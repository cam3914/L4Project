{
 "cells": [
  {
   "cell_type": "markdown",
   "metadata": {},
   "source": [
    "## Test Notebook"
   ]
  },
  {
   "cell_type": "code",
   "execution_count": 1,
   "metadata": {},
   "outputs": [
    {
     "name": "stderr",
     "output_type": "stream",
     "text": [
      "RDKit WARNING: [15:38:56] Enabling RDKit 2019.09.1 jupyter extensions\n",
      "Using TensorFlow backend.\n"
     ]
    },
    {
     "name": "stdout",
     "output_type": "stream",
     "text": [
      "3.7.5 (default, Oct 25 2019, 15:51:11) \n",
      "[GCC 7.3.0]\n"
     ]
    }
   ],
   "source": [
    "import sys\n",
    "from rdkit import Chem\n",
    "from rdkit.Chem import AllChem\n",
    "import rdkit.Chem.MolStandardize\n",
    "import rdkit.Chem.MolStandardize.rdMolStandardize\n",
    "import pandas as pd\n",
    "import numpy as np\n",
    "from pyteomics import mgf\n",
    "import matplotlib.pyplot as plt\n",
    "import spectrum_utils.plot as sup\n",
    "import spectrum_utils.spectrum as sus\n",
    "from data_utils import *\n",
    "import operator\n",
    "import keras\n",
    "from keras.models import Sequential\n",
    "from keras.layers import Dense, Dropout\n",
    "from keras import optimizers\n",
    "import tensorflow as tf\n",
    "\n",
    "\n",
    "print(sys.version)"
   ]
  },
  {
   "cell_type": "code",
   "execution_count": 2,
   "metadata": {},
   "outputs": [
    {
     "name": "stdout",
     "output_type": "stream",
     "text": [
      "Num GPUs Available:  0\n"
     ]
    }
   ],
   "source": [
    "## Check GPU available\n",
    "print(\"Num GPUs Available: \", len(tf.config.experimental.list_physical_devices('GPU')))"
   ]
  },
  {
   "cell_type": "code",
   "execution_count": 3,
   "metadata": {
    "scrolled": true
   },
   "outputs": [
    {
     "name": "stdout",
     "output_type": "stream",
     "text": [
      "# molecules:  8249\n"
     ]
    },
    {
     "name": "stderr",
     "output_type": "stream",
     "text": [
      "RDKit ERROR: [15:39:15] Can't kekulize mol.  Unkekulized atoms: 10 11 12 14 16\n",
      "RDKit ERROR: \n"
     ]
    },
    {
     "name": "stdout",
     "output_type": "stream",
     "text": [
      "unable to generate fp for entry 1257\n"
     ]
    },
    {
     "name": "stderr",
     "output_type": "stream",
     "text": [
      "RDKit ERROR: [15:39:15] SMILES Parse Error: unclosed ring for input: 'OC1=CC(C(OC)=O)=C(OC2=CC(C)=CC(O)=C2C(O)=O)C(OC)=C2'\n",
      "RDKit ERROR: [15:39:15] SMILES Parse Error: unclosed ring for input: 'O=C1C2=C(C=C(C)C=C2O)OC3=CC(O)=CC(C(OC)=O)=C32'\n",
      "RDKit ERROR: [15:39:15] SMILES Parse Error: unclosed ring for input: 'O=C([C@H](CC)C)O[C@H]1CCC=C2C1[C@@H](CC[C@@H](O)C[C@@H](O)CC(OC)=O)[C@@H](C)C=C3'\n",
      "RDKit ERROR: [15:39:15] SMILES Parse Error: unclosed ring for input: 'O=C(N[C@@H](CCCCCC(CC)=O)C(N[C@@H](CC1=CN(OC)C2=C1C=CC=C2)C3=O)=O)[C@@H]4N(C([C@H]([C@H](CC)C)N3)=O)CCCC5'\n",
      "RDKit ERROR: [15:39:15] SMILES Parse Error: unclosed ring for input: 'O=C(N(C(C=CC=C1)=C1C(N(C)[C@@]2([H])CC3=CC=CC=C3)=O)C2=N4)C5=C4C=CC=C6'\n",
      "RDKit ERROR: [15:39:15] SMILES Parse Error: unclosed ring for input: 'OC1=CC=C(CC(C(NC(C(CC)C)C(OC(C(CCCCCCCCCC)C)CC(NC(C(NC(C(NC(C(NC2CCC(N)=O)=O)C)=O)C)=O)C(O)C)=O)=O)=O)NC2=O)C=C2'\n"
     ]
    },
    {
     "name": "stdout",
     "output_type": "stream",
     "text": [
      "unable to generate fp for entry 1318\n",
      "unable to generate fp for entry 1320\n",
      "unable to generate fp for entry 1340\n",
      "unable to generate fp for entry 1346\n",
      "unable to generate fp for entry 1351\n",
      "unable to generate fp for entry 1356\n"
     ]
    },
    {
     "name": "stderr",
     "output_type": "stream",
     "text": [
      "RDKit ERROR: [15:39:17] non-ring atom 88 marked aromatic\n",
      "RDKit ERROR: [15:39:17] non-ring atom 90 marked aromatic\n"
     ]
    },
    {
     "name": "stdout",
     "output_type": "stream",
     "text": [
      "unable to generate fp for entry 1855\n",
      "unable to generate fp for entry 1856\n"
     ]
    },
    {
     "name": "stderr",
     "output_type": "stream",
     "text": [
      "RDKit WARNING: [15:39:36] WARNING: not removing hydrogen atom without neighbors\n",
      "RDKit ERROR: [15:39:43] SMILES Parse Error: syntax error while parsing: N/A\n",
      "RDKit ERROR: [15:39:43] SMILES Parse Error: Failed parsing SMILES 'N/A' for input: 'N/A'\n"
     ]
    },
    {
     "name": "stdout",
     "output_type": "stream",
     "text": [
      "unable to generate fp for entry 7214\n",
      "# parsed molecules:  8239\n"
     ]
    }
   ],
   "source": [
    "unique_data = getData(\"MS_data_allGNPS_uniqueInchikey14_191101.mgf\")\n",
    "#large_data = getData(\"MS_data_allGNPS_smiles_191101.mgf\")"
   ]
  },
  {
   "cell_type": "code",
   "execution_count": 4,
   "metadata": {},
   "outputs": [
    {
     "name": "stdout",
     "output_type": "stream",
     "text": [
      "[119.0494   150.014496 178.009506 234.994995 284.111511 312.106293\n",
      " 355.112213]\n",
      "[   5245.100098   59115.199219    6098.399902    3503.5\n",
      "    4140.299805   58914.199219 1814529.375   ]\n",
      "[0 0 0 ... 0 0 0]\n"
     ]
    }
   ],
   "source": [
    "## Test a random entry\n",
    "mol = unique_data.iloc[7]\n",
    "print(mol['m/z'])\n",
    "print(mol['intensity'])\n",
    "print(str(mol['fingerprint']))"
   ]
  },
  {
   "cell_type": "code",
   "execution_count": 5,
   "metadata": {},
   "outputs": [],
   "source": [
    "def show_spectrum(spectrum_dict):\n",
    "    spectrum = sus.MsmsSpectrum(spectrum_dict['title'], spectrum_dict['pepmass'][0], spectrum_dict['charge'][0], spectrum_dict['m/z'], spectrum_dict['intensity'])\n",
    "    spectrum.filter_intensity(0)\n",
    "\n",
    "    charge = spectrum_dict['charge'][0]\n",
    "    tol_mass, tol_mode = 0.5, 'Da'\n",
    "    annotate_fragment_mz = spectrum_dict['m/z']\n",
    "\n",
    "    #for fragment_mz in annotate_fragment_mz:\n",
    "    #spectrum.annotate_mz_fragment(fragment_mz, charge, tol_mass, tol_mode)\n",
    "\n",
    "    fragment_smiles = spectrum_dict['SMILES']\n",
    "    #fragment_mz = 295.170\n",
    "    #spectrum.annotate_molecule_fragment(fragment_smiles, fragment_mz, charge, tol_mass, tol_mode)\n",
    "\n",
    "    fig, ax = plt.subplots(figsize=(12, 6))\n",
    "    sup.spectrum(spectrum, ax=ax)\n",
    "    plt.show()\n",
    "    plt.close()\n",
    "    "
   ]
  },
  {
   "cell_type": "code",
   "execution_count": 22,
   "metadata": {},
   "outputs": [],
   "source": [
    "data = unique_data.iloc[32]"
   ]
  },
  {
   "cell_type": "code",
   "execution_count": 23,
   "metadata": {},
   "outputs": [
    {
     "name": "stdout",
     "output_type": "stream",
     "text": [
      "num peaks: \n",
      "15\n"
     ]
    },
    {
     "data": {
      "image/png": "[encoded data removed]",
      "text/plain": [
       "<Figure size 864x432 with 1 Axes>"
      ]
     },
     "metadata": {
      "needs_background": "light"
     },
     "output_type": "display_data"
    }
   ],
   "source": [
    "print(\"num peaks: \")\n",
    "print(len(data['m/z']))\n",
    "show_spectrum(data)"
   ]
  },
  {
   "cell_type": "code",
   "execution_count": 24,
   "metadata": {},
   "outputs": [
    {
     "data": {
      "text/plain": [
       "(0, 600.0)"
      ]
     },
     "execution_count": 24,
     "metadata": {},
     "output_type": "execute_result"
    },
    {
     "data": {
      "image/png": "[encoded data removed]",
      "text/plain": [
       "<Figure size 864x432 with 1 Axes>"
      ]
     },
     "metadata": {
      "needs_background": "light"
     },
     "output_type": "display_data"
    }
   ],
   "source": [
    "## verify binning results in a similar plot\n",
    "bin_size = 1\n",
    "binned = bin_spectra(data, bin_size)\n",
    "\n",
    "fig = plt.figure(figsize=(12, 6))\n",
    "ax = fig.add_subplot()\n",
    "ax.bar(range(len(binned)), binned, width=2)\n",
    "ax.set_xlim(0, 600/bin_size)\n"
   ]
  },
  {
   "cell_type": "code",
   "execution_count": 25,
   "metadata": {},
   "outputs": [],
   "source": [
    "def count_peaks(data, threshold):\n",
    "    peak_counter = {i:0 for i in range(601)}\n",
    "    for i, mol in data.iterrows():\n",
    "        binned = bin_spectra(mol, 1)\n",
    "        for bin_no, intensity in enumerate(binned):\n",
    "            if intensity > threshold:\n",
    "                peak_counter[bin_no] += 1\n",
    "    \n",
    "    return peak_counter"
   ]
  },
  {
   "cell_type": "code",
   "execution_count": 11,
   "metadata": {},
   "outputs": [
    {
     "name": "stderr",
     "output_type": "stream",
     "text": [
      "/home/cameron/cs/project/src/data_utils.py:68: RuntimeWarning: invalid value encountered in true_divide\n",
      "  return array / max(array)\n"
     ]
    }
   ],
   "source": [
    "peaks = count_peaks(unique_data, 0.9)"
   ]
  },
  {
   "cell_type": "code",
   "execution_count": 13,
   "metadata": {},
   "outputs": [],
   "source": [
    "## find most common large peak\n",
    "max_peak = max(peaks.items(), key=operator.itemgetter(1))[0]"
   ]
  },
  {
   "cell_type": "code",
   "execution_count": 14,
   "metadata": {},
   "outputs": [
    {
     "name": "stdout",
     "output_type": "stream",
     "text": [
      "Binning: 8239   \r"
     ]
    },
    {
     "data": {
      "text/plain": [
       "8239"
      ]
     },
     "execution_count": 14,
     "metadata": {},
     "output_type": "execute_result"
    }
   ],
   "source": [
    "##### predict only bin 121\n",
    "x_data = []\n",
    "y_data = []\n",
    "\n",
    "for i, mol in unique_data.iterrows():\n",
    "    sys.stdout.write(\"Binning: %d   \\r\" % (i + 1) )\n",
    "    sys.stdout.flush()\n",
    "    binned = bin_spectra(mol, 1)\n",
    "    x_data.append(mol['fingerprint'])\n",
    "    y_data.append(binned[max_peak])\n",
    "    \n",
    "    \n",
    "split = int(0.8 * len(x_data))\n",
    "    \n",
    "x_train = np.array(x_data[:split])\n",
    "y_train = np.array(y_data[:split])\n",
    "\n",
    "x_test = np.array(x_data[split:])\n",
    "y_test = np.array(y_data[split:])\n",
    "\n",
    "len(x_data)"
   ]
  },
  {
   "cell_type": "code",
   "execution_count": 15,
   "metadata": {},
   "outputs": [
    {
     "data": {
      "text/plain": [
       "844"
      ]
     },
     "execution_count": 15,
     "metadata": {},
     "output_type": "execute_result"
    }
   ],
   "source": [
    "x2_data = []\n",
    "y2_data = []\n",
    "\n",
    "for i, val in enumerate(y_data):\n",
    "    if val > 0.1:\n",
    "        x2_data.append(x_data[i])\n",
    "        y2_data.append(val)\n",
    "        \n",
    "split2 = int(0.8 * len(x2_data))\n",
    "        \n",
    "x2_train = np.array(x2_data[:split2])\n",
    "y2_train = np.array(y2_data[:split2])\n",
    "\n",
    "x2_test = np.array(x2_data[split2:])\n",
    "y2_test = np.array(y2_data[split2:])\n",
    "\n",
    "len(x2_data)"
   ]
  },
  {
   "cell_type": "code",
   "execution_count": 16,
   "metadata": {},
   "outputs": [],
   "source": [
    "### First working MLP\n",
    "# model = Sequential()\n",
    "# model.add(Dense(units=1024, activation='sigmoid', input_shape=(2048,)))\n",
    "# model.add(Dense(units=64, activation='relu'))\n",
    "# model.add(Dense(1, activation='linear'))\n",
    "# sgd = optimizers.SGD(lr=0.01, nesterov=True);\n",
    "# model.compile(loss='mean_absolute_error', optimizer=sgd)"
   ]
  },
  {
   "cell_type": "code",
   "execution_count": 17,
   "metadata": {},
   "outputs": [],
   "source": [
    "model = Sequential()\n",
    "model.add(Dense(units=512, activation='sigmoid', input_shape=(2048,)))\n",
    "\n",
    "#model.add(Dense(units=256, activation='relu'))\n",
    "#model.add(Dropout(0.25))\n",
    "#model.add(Dense(units=256, activation='relu'))\n",
    "model.add(Dense(units=32, activation='relu'))\n",
    "#model.add(Dropout(0.25))\n",
    "model.add(Dense(1))\n",
    "\n",
    "#model.compile(optimizer='adam', loss='mse', metrics=['mean_absolute_error'])\n",
    "#model.compile(loss='mean_absolute_error', optimizer='adam', metrics=['mean_squared_error'])\n",
    "#model.fit(np.array(x_data), np.array(y_data), epochs=10, batch_size=10, verbose=1, validation_split=0.2)\n",
    "\n",
    "\n",
    "sgd = optimizers.SGD(lr=0.01, nesterov=True);\n",
    "rmsprop = optimizers.RMSprop(learning_rate=0.001, rho=0.9)\n",
    "model.compile(loss='mean_absolute_error', optimizer=\"rmsprop\", metrics=['mse', 'mae', 'mape', 'cosine'])"
   ]
  },
  {
   "cell_type": "code",
   "execution_count": 21,
   "metadata": {},
   "outputs": [
    {
     "name": "stdout",
     "output_type": "stream",
     "text": [
      "Train on 540 samples, validate on 135 samples\n",
      "Epoch 1/20\n",
      "540/540 [==============================] - 0s 187us/step - loss: 0.1941 - mse: 0.0772 - mae: 0.1941 - mape: 57.2520 - cosine: 1.0000 - val_loss: 0.2203 - val_mse: 0.0999 - val_mae: 0.2203 - val_mape: 70.3317 - val_cosine: 1.0000\n",
      "Epoch 2/20\n",
      "540/540 [==============================] - 0s 175us/step - loss: 0.1585 - mse: 0.0585 - mae: 0.1585 - mape: 50.8572 - cosine: 0.9741 - val_loss: 0.2275 - val_mse: 0.1055 - val_mae: 0.2275 - val_mape: 70.7247 - val_cosine: 1.0000\n",
      "Epoch 3/20\n",
      "540/540 [==============================] - 0s 155us/step - loss: 0.1588 - mse: 0.0596 - mae: 0.1588 - mape: 47.8608 - cosine: 1.0000 - val_loss: 0.2461 - val_mse: 0.1157 - val_mae: 0.2461 - val_mape: 78.1072 - val_cosine: 1.0000\n",
      "Epoch 4/20\n",
      "540/540 [==============================] - 0s 175us/step - loss: 0.1414 - mse: 0.0532 - mae: 0.1414 - mape: 43.0748 - cosine: 1.0000 - val_loss: 0.1940 - val_mse: 0.0879 - val_mae: 0.1940 - val_mape: 58.3544 - val_cosine: 1.0000\n",
      "Epoch 5/20\n",
      "540/540 [==============================] - 0s 171us/step - loss: 0.1481 - mse: 0.0539 - mae: 0.1481 - mape: 44.8454 - cosine: 1.0000 - val_loss: 0.1964 - val_mse: 0.0927 - val_mae: 0.1964 - val_mape: 56.5124 - val_cosine: 1.0000\n",
      "Epoch 6/20\n",
      "540/540 [==============================] - 0s 175us/step - loss: 0.1272 - mse: 0.0459 - mae: 0.1272 - mape: 39.5719 - cosine: 1.0000 - val_loss: 0.2008 - val_mse: 0.0981 - val_mae: 0.2008 - val_mape: 56.8302 - val_cosine: 1.0000\n",
      "Epoch 7/20\n",
      "540/540 [==============================] - 0s 179us/step - loss: 0.1334 - mse: 0.0477 - mae: 0.1334 - mape: 39.5395 - cosine: 1.0000 - val_loss: 0.1907 - val_mse: 0.0937 - val_mae: 0.1907 - val_mape: 52.8144 - val_cosine: 1.0000\n",
      "Epoch 8/20\n",
      "540/540 [==============================] - 0s 179us/step - loss: 0.1208 - mse: 0.0433 - mae: 0.1208 - mape: 36.2682 - cosine: 1.0000 - val_loss: 0.1813 - val_mse: 0.0896 - val_mae: 0.1813 - val_mape: 50.5314 - val_cosine: 1.0000\n",
      "Epoch 9/20\n",
      "540/540 [==============================] - 0s 191us/step - loss: 0.1168 - mse: 0.0408 - mae: 0.1168 - mape: 34.8782 - cosine: 1.0000 - val_loss: 0.1759 - val_mse: 0.0834 - val_mae: 0.1759 - val_mape: 49.7455 - val_cosine: 1.0000\n",
      "Epoch 10/20\n",
      "540/540 [==============================] - 0s 248us/step - loss: 0.1127 - mse: 0.0400 - mae: 0.1127 - mape: 33.2805 - cosine: 1.0000 - val_loss: 0.1835 - val_mse: 0.0916 - val_mae: 0.1835 - val_mape: 50.3328 - val_cosine: 1.0000\n",
      "Epoch 11/20\n",
      "540/540 [==============================] - 0s 255us/step - loss: 0.1181 - mse: 0.0408 - mae: 0.1181 - mape: 33.7277 - cosine: 1.0000 - val_loss: 0.1687 - val_mse: 0.0785 - val_mae: 0.1687 - val_mape: 48.3026 - val_cosine: 1.0000\n",
      "Epoch 12/20\n",
      "540/540 [==============================] - 0s 187us/step - loss: 0.1160 - mse: 0.0391 - mae: 0.1160 - mape: 33.6368 - cosine: 1.0000 - val_loss: 0.1653 - val_mse: 0.0709 - val_mae: 0.1653 - val_mape: 53.8837 - val_cosine: 1.0000\n",
      "Epoch 13/20\n",
      "540/540 [==============================] - 0s 192us/step - loss: 0.1070 - mse: 0.0365 - mae: 0.1070 - mape: 29.6603 - cosine: 1.0000 - val_loss: 0.1698 - val_mse: 0.0783 - val_mae: 0.1698 - val_mape: 49.2936 - val_cosine: 1.0000\n",
      "Epoch 14/20\n",
      "540/540 [==============================] - 0s 158us/step - loss: 0.1066 - mse: 0.0353 - mae: 0.1066 - mape: 30.7086 - cosine: 1.0000 - val_loss: 0.1684 - val_mse: 0.0688 - val_mae: 0.1684 - val_mape: 59.7805 - val_cosine: 1.0000\n",
      "Epoch 15/20\n",
      "540/540 [==============================] - 0s 180us/step - loss: 0.1152 - mse: 0.0379 - mae: 0.1152 - mape: 32.7507 - cosine: 1.0000 - val_loss: 0.1781 - val_mse: 0.0828 - val_mae: 0.1781 - val_mape: 53.9501 - val_cosine: 1.0000\n",
      "Epoch 16/20\n",
      "540/540 [==============================] - 0s 175us/step - loss: 0.1019 - mse: 0.0329 - mae: 0.1019 - mape: 28.3565 - cosine: 1.0000 - val_loss: 0.1818 - val_mse: 0.0717 - val_mae: 0.1818 - val_mape: 67.4154 - val_cosine: 1.0000\n",
      "Epoch 17/20\n",
      "540/540 [==============================] - 0s 172us/step - loss: 0.0952 - mse: 0.0320 - mae: 0.0952 - mape: 26.2343 - cosine: 1.0000 - val_loss: 0.1778 - val_mse: 0.0747 - val_mae: 0.1778 - val_mape: 59.5767 - val_cosine: 1.0000\n",
      "Epoch 18/20\n",
      "540/540 [==============================] - 0s 197us/step - loss: 0.1000 - mse: 0.0326 - mae: 0.1000 - mape: 27.9156 - cosine: 1.0000 - val_loss: 0.1811 - val_mse: 0.0886 - val_mae: 0.1811 - val_mape: 52.1792 - val_cosine: 1.0000\n",
      "Epoch 19/20\n",
      "540/540 [==============================] - 0s 163us/step - loss: 0.1084 - mse: 0.0351 - mae: 0.1084 - mape: 29.0312 - cosine: 1.0000 - val_loss: 0.1812 - val_mse: 0.0697 - val_mae: 0.1812 - val_mape: 67.2842 - val_cosine: 1.0000\n",
      "Epoch 20/20\n",
      "540/540 [==============================] - 0s 161us/step - loss: 0.0961 - mse: 0.0300 - mae: 0.0961 - mape: 27.2499 - cosine: 1.0000 - val_loss: 0.1831 - val_mse: 0.0726 - val_mae: 0.1831 - val_mape: 65.4655 - val_cosine: 1.0000\n"
     ]
    },
    {
     "data": {
      "text/plain": [
       "<keras.callbacks.callbacks.History at 0x7f50f04bbd10>"
      ]
     },
     "execution_count": 21,
     "metadata": {},
     "output_type": "execute_result"
    }
   ],
   "source": [
    "model.fit(x2_train, y2_train, epochs=20, batch_size=128, validation_split=0.2, verbose=1)"
   ]
  },
  {
   "cell_type": "code",
   "execution_count": 19,
   "metadata": {},
   "outputs": [
    {
     "name": "stdout",
     "output_type": "stream",
     "text": [
      "169/169 [==============================] - 0s 74us/step\n",
      "loss 0.2579442962739595\n",
      "mse 0.09799472242593765\n",
      "mae 0.2579442858695984\n",
      "mape 132.38230895996094\n",
      "cosine 1.0\n"
     ]
    }
   ],
   "source": [
    "results = model.evaluate(x2_test, y2_test, batch_size=128, verbose=1)\n",
    "labels = model.metrics_names\n",
    "\n",
    "for i in range(len(results)):\n",
    "    print(labels[i], results[i])"
   ]
  },
  {
   "cell_type": "code",
   "execution_count": null,
   "metadata": {},
   "outputs": [],
   "source": []
  },
  {
   "cell_type": "code",
   "execution_count": null,
   "metadata": {},
   "outputs": [],
   "source": []
  }
 ],
 "metadata": {
  "kernelspec": {
   "display_name": "Python (dissertation)",
   "language": "python",
   "name": "dissertation"
  },
  "language_info": {
   "codemirror_mode": {
    "name": "ipython",
    "version": 3
   },
   "file_extension": ".py",
   "mimetype": "text/x-python",
   "name": "python",
   "nbconvert_exporter": "python",
   "pygments_lexer": "ipython3",
   "version": "3.7.5"
  }
 },
 "nbformat": 4,
 "nbformat_minor": 2
}
