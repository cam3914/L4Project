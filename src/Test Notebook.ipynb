{
 "cells": [
  {
   "cell_type": "markdown",
   "metadata": {},
   "source": [
    "## Test Notebook\n",
    "\n",
    "### First notebook for faliliarisation with keras/pandas/rdkit etc"
   ]
  },
  {
   "cell_type": "code",
   "execution_count": 229,
   "metadata": {},
   "outputs": [
    {
     "data": {
      "text/html": [
       "<div>\n",
       "<style scoped>\n",
       "    .dataframe tbody tr th:only-of-type {\n",
       "        vertical-align: middle;\n",
       "    }\n",
       "\n",
       "    .dataframe tbody tr th {\n",
       "        vertical-align: top;\n",
       "    }\n",
       "\n",
       "    .dataframe thead th {\n",
       "        text-align: right;\n",
       "    }\n",
       "</style>\n",
       "<table border=\"1\" class=\"dataframe\">\n",
       "  <thead>\n",
       "    <tr style=\"text-align: right;\">\n",
       "      <th></th>\n",
       "      <th>Name</th>\n",
       "      <th>SMILES</th>\n",
       "      <th>inchikey</th>\n",
       "    </tr>\n",
       "  </thead>\n",
       "  <tbody>\n",
       "    <tr>\n",
       "      <th>0</th>\n",
       "      <td>Duguetine N-oxide M+H</td>\n",
       "      <td>O[C@H]1C2=C(C=C(OC)C(OC)=C2)C3=C([C@]1([H])[N+...</td>\n",
       "      <td>XKKFNYKNDDHAQC-CHEUHSMRSA-N</td>\n",
       "    </tr>\n",
       "    <tr>\n",
       "      <th>1</th>\n",
       "      <td>val-leu-pro-val-pro M+H</td>\n",
       "      <td>N1(C(=O)[C@@H](NC(=O)[C@H]2N(C(=O)[C@@H](NC(=O...</td>\n",
       "      <td>KSIHMACFIAFKIG-FSFMBLRGSA-N</td>\n",
       "    </tr>\n",
       "    <tr>\n",
       "      <th>2</th>\n",
       "      <td>tBuO-val-hexanoate (tert-butyl hexanoylvalinat...</td>\n",
       "      <td>CCCCCC(NC(C(C)C)C(OC(C)(C)C)=O)=O</td>\n",
       "      <td>NVXHLYRVFXNJGK-UHFFFAOYSA-N</td>\n",
       "    </tr>\n",
       "    <tr>\n",
       "      <th>3</th>\n",
       "      <td>tBuO-val-hexanoate (tert-butyl hexanoylvalinat...</td>\n",
       "      <td>CCCCCC(NC(C(C)C)C(OC(C)(C)C)=O)=O</td>\n",
       "      <td>NVXHLYRVFXNJGK-UHFFFAOYSA-N</td>\n",
       "    </tr>\n",
       "    <tr>\n",
       "      <th>4</th>\n",
       "      <td>Kalkipyrone B M+H-H2O</td>\n",
       "      <td>C[C@@H](O)/C=C(C)/CCC/C(C)=C/CC(OC(OC)=C1C)=C(...</td>\n",
       "      <td>POWDQNOFNJBGFS-FEFCGZSXSA-N</td>\n",
       "    </tr>\n",
       "  </tbody>\n",
       "</table>\n",
       "</div>"
      ],
      "text/plain": [
       "                                                Name  \\\n",
       "0                              Duguetine N-oxide M+H   \n",
       "1                            val-leu-pro-val-pro M+H   \n",
       "2  tBuO-val-hexanoate (tert-butyl hexanoylvalinat...   \n",
       "3  tBuO-val-hexanoate (tert-butyl hexanoylvalinat...   \n",
       "4                              Kalkipyrone B M+H-H2O   \n",
       "\n",
       "                                              SMILES  \\\n",
       "0  O[C@H]1C2=C(C=C(OC)C(OC)=C2)C3=C([C@]1([H])[N+...   \n",
       "1  N1(C(=O)[C@@H](NC(=O)[C@H]2N(C(=O)[C@@H](NC(=O...   \n",
       "2                  CCCCCC(NC(C(C)C)C(OC(C)(C)C)=O)=O   \n",
       "3                  CCCCCC(NC(C(C)C)C(OC(C)(C)C)=O)=O   \n",
       "4  C[C@@H](O)/C=C(C)/CCC/C(C)=C/CC(OC(OC)=C1C)=C(...   \n",
       "\n",
       "                      inchikey  \n",
       "0  XKKFNYKNDDHAQC-CHEUHSMRSA-N  \n",
       "1  KSIHMACFIAFKIG-FSFMBLRGSA-N  \n",
       "2  NVXHLYRVFXNJGK-UHFFFAOYSA-N  \n",
       "3  NVXHLYRVFXNJGK-UHFFFAOYSA-N  \n",
       "4  POWDQNOFNJBGFS-FEFCGZSXSA-N  "
      ]
     },
     "execution_count": 229,
     "metadata": {},
     "output_type": "execute_result"
    }
   ],
   "source": [
    "from rdkit import Chem\n",
    "import pandas as pd\n",
    "import numpy as np\n",
    "from pyteomics import mgf\n",
    "\n",
    "# read in mgf file\n",
    "mgf_data = mgf.read(\"../data/raw/gnps_with_inchi_structure.mgf\")\n",
    "# create dataframe with name, inchikey and SMILES strings\n",
    "data = pd.DataFrame({'Name': mol['params']['name'], 'inchikey': mol['params']['inchikey'], 'SMILES': mol['params']['smiles']} for mol in mgf_data)\n",
    "data.head()"
   ]
  },
  {
   "cell_type": "code",
   "execution_count": 230,
   "metadata": {
    "scrolled": true
   },
   "outputs": [
    {
     "name": "stdout",
     "output_type": "stream",
     "text": [
      "ERROR: MISSING SMILES : \n",
      "ERROR: MISSING SMILES : N/A\n",
      "ERROR: MISSING SMILES : N/A\n",
      "ERROR: MISSING SMILES : N/A\n",
      "ERROR: MISSING SMILES : \n",
      "ERROR: MISSING SMILES : \n",
      "ERROR: MISSING SMILES : \n",
      "ERROR: MISSING SMILES : \n",
      "ERROR: MISSING SMILES : \n",
      "ERROR: MISSING SMILES : \n",
      "ERROR: MISSING SMILES : \n",
      "ERROR: MISSING SMILES : \n",
      "ERROR: MISSING SMILES : \n",
      "ERROR: MISSING SMILES : \n",
      "ERROR: MISSING SMILES : \n",
      "ERROR: MISSING SMILES : \n",
      "ERROR: MISSING SMILES : \n",
      "ERROR: MISSING SMILES : \n",
      "ERROR: MISSING SMILES : \n",
      "ERROR: MISSING SMILES : \n",
      "ERROR: MISSING SMILES : \n",
      "ERROR: MISSING SMILES : \n",
      "ERROR: MISSING SMILES : \n",
      "ERROR: MISSING SMILES : \n"
     ]
    }
   ],
   "source": [
    "\"\"\" Check each entry for valid inchikey and SMILES string\n",
    "\"\"\"\n",
    "\n",
    "for i, row in data.iterrows():\n",
    "    #rint(\"row %d\" % i)\n",
    "    smile = row['SMILES']\n",
    "    inchikey = row['inchikey']\n",
    "    \n",
    "    \n",
    "    if len(smile) > 0 and smile != \"N/A\":\n",
    "        if Chem.MolStandardize.rdMolStandardize.ValidateSmiles(\"O[C@H]1C2=C(C=C(OC)C(OC)=C2)C3=C([C@]1([H])[N+](C)([O-])CC4)C4=CC5=C3OCO5\") == []:\n",
    "            pass\n",
    "        else:\n",
    "            print(\"ERROR: INVALID SMILE\")\n",
    "            #print(smile)\n",
    "    else:\n",
    "        # convert inchi to smiles\n",
    "        print(\"ERROR: MISSING SMILES : %s\" % smile)\n",
    "        \n",
    "    if len(inchikey) > 0:\n",
    "        pass\n",
    "    else:\n",
    "        print(\"ERROR: MISSING INCHIKEY\")"
   ]
  },
  {
   "cell_type": "code",
   "execution_count": 235,
   "metadata": {},
   "outputs": [],
   "source": [
    "import keras\n",
    "from keras.models import Sequential\n",
    "from keras.layers import Dense\n",
    "from IPython.display import SVG\n",
    "from keras.utils import model_to_dot\n",
    "\n",
    "model = Sequential()\n",
    "model.add(Dense(units=64, activation='relu', input_dim=100))\n",
    "model.add(Dense(units=10, activation='softmax'))\n",
    "model.compile(loss='categorical_crossentropy', optimizer='sgd', metrics=['accuracy'])"
   ]
  },
  {
   "cell_type": "code",
   "execution_count": 236,
   "metadata": {},
   "outputs": [
    {
     "data": {
      "image/svg+xml": [
       "<svg height=\"255pt\" viewBox=\"0.00 0.00 171.00 191.00\" width=\"228pt\" xmlns=\"http://www.w3.org/2000/svg\" xmlns:xlink=\"http://www.w3.org/1999/xlink\">\n",
       "<g class=\"graph\" id=\"graph0\" transform=\"scale(1.3333 1.3333) rotate(0) translate(4 187)\">\n",
       "<title>G</title>\n",
       "<polygon fill=\"#ffffff\" points=\"-4,4 -4,-187 167,-187 167,4 -4,4\" stroke=\"transparent\"/>\n",
       "<!-- 140540099832016 -->\n",
       "<g class=\"node\" id=\"node1\">\n",
       "<title>140540099832016</title>\n",
       "<polygon fill=\"none\" points=\"0,-146.5 0,-182.5 163,-182.5 163,-146.5 0,-146.5\" stroke=\"#000000\"/>\n",
       "<text fill=\"#000000\" font-family=\"Times,serif\" font-size=\"14.00\" text-anchor=\"middle\" x=\"81.5\" y=\"-160.8\">dense_9_input: InputLayer</text>\n",
       "</g>\n",
       "<!-- 140540099832296 -->\n",
       "<g class=\"node\" id=\"node2\">\n",
       "<title>140540099832296</title>\n",
       "<polygon fill=\"none\" points=\"30.5,-73.5 30.5,-109.5 132.5,-109.5 132.5,-73.5 30.5,-73.5\" stroke=\"#000000\"/>\n",
       "<text fill=\"#000000\" font-family=\"Times,serif\" font-size=\"14.00\" text-anchor=\"middle\" x=\"81.5\" y=\"-87.8\">dense_9: Dense</text>\n",
       "</g>\n",
       "<!-- 140540099832016&#45;&gt;140540099832296 -->\n",
       "<g class=\"edge\" id=\"edge1\">\n",
       "<title>140540099832016-&gt;140540099832296</title>\n",
       "<path d=\"M81.5,-146.4551C81.5,-138.3828 81.5,-128.6764 81.5,-119.6817\" fill=\"none\" stroke=\"#000000\"/>\n",
       "<polygon fill=\"#000000\" points=\"85.0001,-119.5903 81.5,-109.5904 78.0001,-119.5904 85.0001,-119.5903\" stroke=\"#000000\"/>\n",
       "</g>\n",
       "<!-- 140540099832128 -->\n",
       "<g class=\"node\" id=\"node3\">\n",
       "<title>140540099832128</title>\n",
       "<polygon fill=\"none\" points=\"27,-.5 27,-36.5 136,-36.5 136,-.5 27,-.5\" stroke=\"#000000\"/>\n",
       "<text fill=\"#000000\" font-family=\"Times,serif\" font-size=\"14.00\" text-anchor=\"middle\" x=\"81.5\" y=\"-14.8\">dense_10: Dense</text>\n",
       "</g>\n",
       "<!-- 140540099832296&#45;&gt;140540099832128 -->\n",
       "<g class=\"edge\" id=\"edge2\">\n",
       "<title>140540099832296-&gt;140540099832128</title>\n",
       "<path d=\"M81.5,-73.4551C81.5,-65.3828 81.5,-55.6764 81.5,-46.6817\" fill=\"none\" stroke=\"#000000\"/>\n",
       "<polygon fill=\"#000000\" points=\"85.0001,-46.5903 81.5,-36.5904 78.0001,-46.5904 85.0001,-46.5903\" stroke=\"#000000\"/>\n",
       "</g>\n",
       "</g>\n",
       "</svg>"
      ],
      "text/plain": [
       "<IPython.core.display.SVG object>"
      ]
     },
     "execution_count": 236,
     "metadata": {},
     "output_type": "execute_result"
    }
   ],
   "source": [
    "# x_train and y_train are Numpy arrays --just like in the Scikit-Learn API.\n",
    "#model.fit(x_train, y_train, epochs=5, batch_size=32)\n",
    "SVG(model_to_dot(model).create(prog='dot', format='svg'))"
   ]
  },
  {
   "cell_type": "code",
   "execution_count": 233,
   "metadata": {},
   "outputs": [],
   "source": []
  },
  {
   "cell_type": "code",
   "execution_count": 49,
   "metadata": {},
   "outputs": [],
   "source": []
  },
  {
   "cell_type": "code",
   "execution_count": 50,
   "metadata": {},
   "outputs": [],
   "source": [
    "\n",
    "\n"
   ]
  },
  {
   "cell_type": "code",
   "execution_count": 51,
   "metadata": {},
   "outputs": [],
   "source": []
  },
  {
   "cell_type": "code",
   "execution_count": 52,
   "metadata": {},
   "outputs": [],
   "source": []
  },
  {
   "cell_type": "code",
   "execution_count": 98,
   "metadata": {},
   "outputs": [],
   "source": []
  },
  {
   "cell_type": "code",
   "execution_count": 111,
   "metadata": {},
   "outputs": [
    {
     "name": "stdout",
     "output_type": "stream",
     "text": [
      "O[C@H]1C2=C(C=C(OC)C(OC)=C2)C3=C([C@]1([H])[N+](C)([O-])CC4)C4=CC5=C3OCO5\n"
     ]
    }
   ],
   "source": [
    "print(data.iloc[0]['SMILES'])"
   ]
  },
  {
   "cell_type": "code",
   "execution_count": 200,
   "metadata": {},
   "outputs": [
    {
     "name": "stdout",
     "output_type": "stream",
     "text": [
      "ERROR: MISSING SMILES : \n",
      "ERROR: MISSING SMILES : N/A\n",
      "ERROR: MISSING SMILES : N/A\n",
      "ERROR: MISSING SMILES : N/A\n",
      "ERROR: MISSING SMILES : \n",
      "ERROR: MISSING SMILES : \n",
      "ERROR: MISSING SMILES : \n",
      "ERROR: MISSING SMILES : \n",
      "ERROR: MISSING SMILES : \n",
      "ERROR: MISSING SMILES : \n",
      "ERROR: MISSING SMILES : \n",
      "ERROR: MISSING SMILES : \n",
      "ERROR: MISSING SMILES : \n",
      "ERROR: MISSING SMILES : \n",
      "ERROR: MISSING SMILES : \n",
      "ERROR: MISSING SMILES : \n",
      "ERROR: MISSING SMILES : \n",
      "ERROR: MISSING SMILES : \n",
      "ERROR: MISSING SMILES : \n",
      "ERROR: MISSING SMILES : \n",
      "ERROR: MISSING SMILES : \n",
      "ERROR: MISSING SMILES : \n",
      "ERROR: MISSING SMILES : \n",
      "ERROR: MISSING SMILES : \n"
     ]
    }
   ],
   "source": []
  },
  {
   "cell_type": "code",
   "execution_count": 156,
   "metadata": {},
   "outputs": [
    {
     "data": {
      "text/plain": [
       "{'params': {'title': 'Scan Number: 1',\n",
       "  'pepmass': (372.17999, None),\n",
       "  'charge': [1],\n",
       "  'compoundname': 'Duguetine N-oxide',\n",
       "  'libraryquality': '3',\n",
       "  'smiles': 'O[C@H]1C2=C(C=C(OC)C(OC)=C2)C3=C([C@]1([H])[N+](C)([O-])CC4)C4=CC5=C3OCO5',\n",
       "  'inchikey': 'XKKFNYKNDDHAQC-CHEUHSMRSA-N',\n",
       "  'inchi': '',\n",
       "  'mslevel': '2',\n",
       "  'source_instrument': 'LC-ESI-qTof',\n",
       "  'filename': 'f.amazonia/Library/C11.mzXML;',\n",
       "  'seq': '*..*',\n",
       "  'notes': '',\n",
       "  'ionmode': 'Positive',\n",
       "  'organism': 'GNPS-LIBRARY',\n",
       "  'name': 'Duguetine N-oxide M+H',\n",
       "  'spectrumid': 'CCMSLIB00005436069',\n",
       "  'activation': 'CID',\n",
       "  'instrument': 'ion trap',\n",
       "  'scans': '1'},\n",
       " 'm/z array': array([ 58.064877,  60.044109, 235.07457 , 236.083115, 237.09137 ,\n",
       "        238.098541, 239.107452, 250.098541, 251.106705, 254.093857,\n",
       "        262.098907, 263.106079, 264.11319 , 265.086029, 266.092621,\n",
       "        267.101196, 268.107086, 269.117035, 270.12146 , 278.092712,\n",
       "        279.101776, 280.105103, 281.080292, 281.117279, 282.087311,\n",
       "        282.123383, 283.095062, 283.128021, 292.109711, 293.116791,\n",
       "        294.125824, 295.096802, 295.129059, 296.102325, 296.131378,\n",
       "        297.112793, 298.116302, 299.120911, 308.10553 , 308.127838,\n",
       "        309.109955, 309.130554, 310.120819, 311.090729, 311.126862,\n",
       "        312.096985, 312.136261, 313.140259, 314.142853, 323.126892,\n",
       "        323.151337, 324.123779, 324.154114, 325.144196, 326.114044,\n",
       "        326.14679 , 327.118774, 327.149719, 339.145874, 341.137482,\n",
       "        342.141663, 354.169342, 355.174377, 372.180176, 373.183105]),\n",
       " 'intensity array': array([   366.774292,   1870.42395 ,    324.853607,    613.036072,\n",
       "           562.246704,    364.652588,    355.300293,    213.249405,\n",
       "          1191.776978,    682.55658 ,    262.017792,    536.030273,\n",
       "           236.360199,   1149.166992,    565.677795,   1192.077026,\n",
       "           306.052307,   3443.383057,    533.243774,    361.0336  ,\n",
       "          8481.605469,   1320.791016,    253.576706,   4330.065918,\n",
       "           299.312897,   1848.197021,    296.895508,    321.559692,\n",
       "           261.456604,    729.940918, 212785.203125,  11938.44043 ,\n",
       "         33479.371094,   3382.543945,   2886.498047,  29644.449219,\n",
       "          4888.150879,    550.201172,    279.490906,   1122.647949,\n",
       "           253.479996,    326.393402, 101985.796875,    585.937622,\n",
       "         44274.761719,    222.639297, 179414.703125,  29238.689453,\n",
       "          2831.099121,    282.722198,   2990.044922,    462.144104,\n",
       "           639.43158 ,  64805.390625,   1378.317993,  11130.320312,\n",
       "           245.453003,   1018.474976,    725.768494,   1602.833984,\n",
       "           418.078094,   1826.619019,    549.469421,    764.597717,\n",
       "           218.362   ]),\n",
       " 'charge array': masked_array(data=[--, --, --, --, --, --, --, --, --, --, --, --, --, --,\n",
       "                    --, --, --, --, --, --, --, --, --, --, --, --, --, --,\n",
       "                    --, --, --, --, --, --, --, --, --, --, --, --, --, --,\n",
       "                    --, --, --, --, --, --, --, --, --, --, --, --, --, --,\n",
       "                    --, --, --, --, --, --, --, --, --],\n",
       "              mask=[ True,  True,  True,  True,  True,  True,  True,  True,\n",
       "                     True,  True,  True,  True,  True,  True,  True,  True,\n",
       "                     True,  True,  True,  True,  True,  True,  True,  True,\n",
       "                     True,  True,  True,  True,  True,  True,  True,  True,\n",
       "                     True,  True,  True,  True,  True,  True,  True,  True,\n",
       "                     True,  True,  True,  True,  True,  True,  True,  True,\n",
       "                     True,  True,  True,  True,  True,  True,  True,  True,\n",
       "                     True,  True,  True,  True,  True,  True,  True,  True,\n",
       "                     True],\n",
       "        fill_value=0,\n",
       "             dtype=int64)}"
      ]
     },
     "execution_count": 156,
     "metadata": {},
     "output_type": "execute_result"
    }
   ],
   "source": [
    "mgf.get_spectrum(\"../data/raw/gnps_with_inchi_structure.mgf\", title=mgf_data[0]['params']['title'])"
   ]
  },
  {
   "cell_type": "code",
   "execution_count": 199,
   "metadata": {},
   "outputs": [
    {
     "name": "stdout",
     "output_type": "stream",
     "text": [
      "[]\n",
      "<rdkit.Chem.rdchem.Mol object at 0x7fd20bff0c10>\n"
     ]
    }
   ],
   "source": []
  },
  {
   "cell_type": "code",
   "execution_count": 126,
   "metadata": {},
   "outputs": [
    {
     "ename": "NameError",
     "evalue": "name 'smiles_str' is not defined",
     "output_type": "error",
     "traceback": [
      "\u001b[0;31m---------------------------------------------------------------------------\u001b[0m",
      "\u001b[0;31mNameError\u001b[0m                                 Traceback (most recent call last)",
      "\u001b[0;32m<ipython-input-126-9d906abd8c26>\u001b[0m in \u001b[0;36m<module>\u001b[0;34m\u001b[0m\n\u001b[0;32m----> 1\u001b[0;31m \u001b[0mmols\u001b[0m \u001b[0;34m=\u001b[0m \u001b[0;34m[\u001b[0m\u001b[0mChem\u001b[0m\u001b[0;34m.\u001b[0m\u001b[0mMolFromSmiles\u001b[0m\u001b[0;34m(\u001b[0m\u001b[0mstr\u001b[0m\u001b[0;34m)\u001b[0m \u001b[0;32mfor\u001b[0m \u001b[0mstr\u001b[0m \u001b[0;32min\u001b[0m \u001b[0msmiles_str\u001b[0m\u001b[0;34m]\u001b[0m\u001b[0;34m\u001b[0m\u001b[0;34m\u001b[0m\u001b[0m\n\u001b[0m\u001b[1;32m      2\u001b[0m \u001b[0msuppl\u001b[0m \u001b[0;34m=\u001b[0m \u001b[0mChem\u001b[0m\u001b[0;34m.\u001b[0m\u001b[0mSDMolSupplier\u001b[0m\u001b[0;34m(\u001b[0m\u001b[0;34m'../data/raw/test_14_mend.sdf'\u001b[0m\u001b[0;34m)\u001b[0m\u001b[0;34m\u001b[0m\u001b[0;34m\u001b[0m\u001b[0m\n\u001b[1;32m      3\u001b[0m \u001b[0;32mfor\u001b[0m \u001b[0mmol\u001b[0m \u001b[0;32min\u001b[0m \u001b[0msuppl\u001b[0m\u001b[0;34m:\u001b[0m\u001b[0;34m\u001b[0m\u001b[0;34m\u001b[0m\u001b[0m\n\u001b[1;32m      4\u001b[0m     \u001b[0;32mif\u001b[0m \u001b[0mmol\u001b[0m \u001b[0;32mis\u001b[0m \u001b[0;32mNone\u001b[0m\u001b[0;34m:\u001b[0m \u001b[0;32mcontinue\u001b[0m\u001b[0;34m\u001b[0m\u001b[0;34m\u001b[0m\u001b[0m\n\u001b[1;32m      5\u001b[0m     \u001b[0mprint\u001b[0m\u001b[0;34m(\u001b[0m\u001b[0mmol\u001b[0m\u001b[0;34m.\u001b[0m\u001b[0mGetNumAtoms\u001b[0m\u001b[0;34m(\u001b[0m\u001b[0;34m)\u001b[0m\u001b[0;34m)\u001b[0m\u001b[0;34m\u001b[0m\u001b[0;34m\u001b[0m\u001b[0m\n",
      "\u001b[0;31mNameError\u001b[0m: name 'smiles_str' is not defined"
     ]
    }
   ],
   "source": []
  },
  {
   "cell_type": "code",
   "execution_count": 211,
   "metadata": {},
   "outputs": [
    {
     "name": "stdout",
     "output_type": "stream",
     "text": [
      "True\n"
     ]
    }
   ],
   "source": []
  },
  {
   "cell_type": "code",
   "execution_count": 214,
   "metadata": {},
   "outputs": [],
   "source": []
  },
  {
   "cell_type": "code",
   "execution_count": 225,
   "metadata": {},
   "outputs": [
    {
     "ename": "RuntimeError",
     "evalue": "Pre-condition Violation\n\tno atoms\n\tViolation occurred on line 173 in file Code/GraphMol/ROMol.cpp\n\tFailed Expression: getNumAtoms() > 0\n\tRDKIT: 2019.03.4\n\tBOOST: 1_67\n",
     "output_type": "error",
     "traceback": [
      "\u001b[0;31m---------------------------------------------------------------------------\u001b[0m",
      "\u001b[0;31mRuntimeError\u001b[0m                              Traceback (most recent call last)",
      "\u001b[0;32m<ipython-input-225-cc2956f6ffa7>\u001b[0m in \u001b[0;36m<module>\u001b[0;34m\u001b[0m\n\u001b[0;32m----> 1\u001b[0;31m \u001b[0mChem\u001b[0m\u001b[0;34m.\u001b[0m\u001b[0mMolStandardize\u001b[0m\u001b[0;34m.\u001b[0m\u001b[0mrdMolStandardize\u001b[0m\u001b[0;34m.\u001b[0m\u001b[0mValidateSmiles\u001b[0m\u001b[0;34m(\u001b[0m\u001b[0;34m\"O[C@H]1C=C2)C3=C([C@]1([H])[N+](C)([O-])CC4)C4=CC5=C3OCO5\"\u001b[0m\u001b[0;34m)\u001b[0m\u001b[0;34m\u001b[0m\u001b[0;34m\u001b[0m\u001b[0m\n\u001b[0m",
      "\u001b[0;31mRuntimeError\u001b[0m: Pre-condition Violation\n\tno atoms\n\tViolation occurred on line 173 in file Code/GraphMol/ROMol.cpp\n\tFailed Expression: getNumAtoms() > 0\n\tRDKIT: 2019.03.4\n\tBOOST: 1_67\n"
     ]
    }
   ],
   "source": []
  },
  {
   "cell_type": "code",
   "execution_count": null,
   "metadata": {},
   "outputs": [],
   "source": []
  }
 ],
 "metadata": {
  "kernelspec": {
   "display_name": "Python 3",
   "language": "python",
   "name": "python3"
  },
  "language_info": {
   "codemirror_mode": {
    "name": "ipython",
    "version": 3
   },
   "file_extension": ".py",
   "mimetype": "text/x-python",
   "name": "python",
   "nbconvert_exporter": "python",
   "pygments_lexer": "ipython3",
   "version": "3.7.3"
  }
 },
 "nbformat": 4,
 "nbformat_minor": 2
}
