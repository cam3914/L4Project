{
 "cells": [
  {
   "cell_type": "markdown",
   "metadata": {},
   "source": [
    "## Test Notebook"
   ]
  },
  {
   "cell_type": "code",
   "execution_count": 1,
   "metadata": {},
   "outputs": [
    {
     "name": "stderr",
     "output_type": "stream",
     "text": [
      "RDKit WARNING: [06:57:07] Enabling RDKit 2019.09.1 jupyter extensions\n",
      "Using TensorFlow backend.\n"
     ]
    },
    {
     "name": "stdout",
     "output_type": "stream",
     "text": [
      "3.7.5 (default, Oct 25 2019, 15:51:11) \n",
      "[GCC 7.3.0]\n"
     ]
    }
   ],
   "source": [
    "import sys\n",
    "from rdkit import Chem\n",
    "from rdkit.Chem import AllChem\n",
    "import rdkit.Chem.MolStandardize\n",
    "import rdkit.Chem.MolStandardize.rdMolStandardize\n",
    "import pandas as pd\n",
    "import numpy as np\n",
    "from pyteomics import mgf\n",
    "import matplotlib.pyplot as plt\n",
    "import spectrum_utils.plot as sup\n",
    "import spectrum_utils.spectrum as sus\n",
    "from data_utils import *\n",
    "import operator\n",
    "import keras\n",
    "from keras.models import Sequential\n",
    "from keras.layers import Dense, Dropout\n",
    "from keras import optimizers\n",
    "import tensorflow as tf\n",
    "import os.path\n",
    "\n",
    "\n",
    "print(sys.version)"
   ]
  },
  {
   "cell_type": "code",
   "execution_count": 2,
   "metadata": {},
   "outputs": [
    {
     "name": "stdout",
     "output_type": "stream",
     "text": [
      "Num GPUs Available:  1\n",
      "[PhysicalDevice(name='/physical_device:GPU:0', device_type='GPU')]\n"
     ]
    }
   ],
   "source": [
    "## Check GPU available\n",
    "print(\"Num GPUs Available: \", len(tf.config.experimental.list_physical_devices('GPU')))\n",
    "print(tf.config.experimental.list_physical_devices('GPU'))\n",
    "tf.debugging.set_log_device_placement(True)"
   ]
  },
  {
   "cell_type": "code",
   "execution_count": 3,
   "metadata": {
    "scrolled": true
   },
   "outputs": [
    {
     "name": "stdout",
     "output_type": "stream",
     "text": [
      "num molecules in raw file:  8249\n"
     ]
    },
    {
     "name": "stderr",
     "output_type": "stream",
     "text": [
      "RDKit ERROR: [06:57:21] Can't kekulize mol.  Unkekulized atoms: 10 11 12 14 16\n",
      "RDKit ERROR: \n"
     ]
    },
    {
     "name": "stdout",
     "output_type": "stream",
     "text": [
      "unable to generate fp for entry 1257\n"
     ]
    },
    {
     "name": "stderr",
     "output_type": "stream",
     "text": [
      "RDKit ERROR: [06:57:21] SMILES Parse Error: unclosed ring for input: 'OC1=CC(C(OC)=O)=C(OC2=CC(C)=CC(O)=C2C(O)=O)C(OC)=C2'\n",
      "RDKit ERROR: [06:57:21] SMILES Parse Error: unclosed ring for input: 'O=C1C2=C(C=C(C)C=C2O)OC3=CC(O)=CC(C(OC)=O)=C32'\n",
      "RDKit ERROR: [06:57:21] SMILES Parse Error: unclosed ring for input: 'O=C([C@H](CC)C)O[C@H]1CCC=C2C1[C@@H](CC[C@@H](O)C[C@@H](O)CC(OC)=O)[C@@H](C)C=C3'\n",
      "RDKit ERROR: [06:57:21] SMILES Parse Error: unclosed ring for input: 'O=C(N[C@@H](CCCCCC(CC)=O)C(N[C@@H](CC1=CN(OC)C2=C1C=CC=C2)C3=O)=O)[C@@H]4N(C([C@H]([C@H](CC)C)N3)=O)CCCC5'\n",
      "RDKit ERROR: [06:57:21] SMILES Parse Error: unclosed ring for input: 'O=C(N(C(C=CC=C1)=C1C(N(C)[C@@]2([H])CC3=CC=CC=C3)=O)C2=N4)C5=C4C=CC=C6'\n",
      "RDKit ERROR: [06:57:21] SMILES Parse Error: unclosed ring for input: 'OC1=CC=C(CC(C(NC(C(CC)C)C(OC(C(CCCCCCCCCC)C)CC(NC(C(NC(C(NC(C(NC2CCC(N)=O)=O)C)=O)C)=O)C(O)C)=O)=O)=O)NC2=O)C=C2'\n"
     ]
    },
    {
     "name": "stdout",
     "output_type": "stream",
     "text": [
      "unable to generate fp for entry 1318\n",
      "unable to generate fp for entry 1320\n",
      "unable to generate fp for entry 1340\n",
      "unable to generate fp for entry 1346\n",
      "unable to generate fp for entry 1351\n",
      "unable to generate fp for entry 1356\n"
     ]
    },
    {
     "name": "stderr",
     "output_type": "stream",
     "text": [
      "RDKit ERROR: [06:57:23] non-ring atom 88 marked aromatic\n",
      "RDKit ERROR: [06:57:23] non-ring atom 90 marked aromatic\n"
     ]
    },
    {
     "name": "stdout",
     "output_type": "stream",
     "text": [
      "unable to generate fp for entry 1855\n",
      "unable to generate fp for entry 1856\n"
     ]
    },
    {
     "name": "stderr",
     "output_type": "stream",
     "text": [
      "RDKit WARNING: [06:57:42] WARNING: not removing hydrogen atom without neighbors\n",
      "RDKit ERROR: [06:57:50] SMILES Parse Error: syntax error while parsing: N/A\n",
      "RDKit ERROR: [06:57:50] SMILES Parse Error: Failed parsing SMILES 'N/A' for input: 'N/A'\n"
     ]
    },
    {
     "name": "stdout",
     "output_type": "stream",
     "text": [
      "unable to generate fp for entry 7214\n",
      "num parsed molecules:  8239\n",
      "finished\n"
     ]
    }
   ],
   "source": [
    "def fetch_data(tag):\n",
    "    \n",
    "    data = {\n",
    "        'unique': {\n",
    "            'filename': 'MS_data_allGNPS_uniqueInchikey14_191101.mgf',\n",
    "            'path': os.path.dirname(os.path.abspath(\"\")) + \"/data/processed/unique8239.csv\",\n",
    "            'size': 8239\n",
    "        },\n",
    "        'large': {\n",
    "            'filename': 'MS_data_allGNPS_smiles_191101.mgf',\n",
    "            'path': os.path.dirname(os.path.abspath(\"\")) + \"/data/processed/large39467.csv\",\n",
    "            'size': 39467\n",
    "        },\n",
    "    } \n",
    "    \n",
    "    path = data[tag]['path']\n",
    "    size = data[tag]['size']\n",
    "    df = False\n",
    "    \n",
    "#     if os.path.exists(path):\n",
    "#         print(\"csv exists\")\n",
    "#         df = pd.read_csv(path)#, dtype={'m/z': np.float64, 'intensity': np.float64})\n",
    "#         if len(df) != size:\n",
    "#             df = False\n",
    "#             print(\"SIZE MISMATCH\")          \n",
    "#     else:\n",
    "#         print(\"no csv, reading mgf\")\n",
    "    df = getData(data[tag]['filename'])\n",
    "#         file = open(path, \"x\") \n",
    "#         file.close() \n",
    "#         df.to_csv(path, index=True, float_format='%g')\n",
    "    print(\"finished\")\n",
    "    \n",
    "    return df\n",
    "\n",
    "unique_data = fetch_data(\"unique\")\n",
    "    \n",
    "#large_data = getData(\"MS_data_allGNPS_smiles_191101.mgf\")"
   ]
  },
  {
   "cell_type": "code",
   "execution_count": 4,
   "metadata": {},
   "outputs": [],
   "source": [
    "def show_spectrum(spectrum_dict):\n",
    "    spectrum = sus.MsmsSpectrum(spectrum_dict['title'], spectrum_dict['pepmass'][0], spectrum_dict['charge'][0], spectrum_dict['m/z'], spectrum_dict['intensity'])\n",
    "    spectrum.filter_intensity(0)\n",
    "\n",
    "    charge = spectrum_dict['charge'][0]\n",
    "    tol_mass, tol_mode = 0.5, 'Da'\n",
    "    annotate_fragment_mz = spectrum_dict['m/z']\n",
    "\n",
    "    #for fragment_mz in annotate_fragment_mz:\n",
    "    #spectrum.annotate_mz_fragment(fragment_mz, charge, tol_mass, tol_mode)\n",
    "\n",
    "    fragment_smiles = spectrum_dict['SMILES']\n",
    "    #fragment_mz = 295.170\n",
    "    #spectrum.annotate_molecule_fragment(fragment_smiles, fragment_mz, charge, tol_mass, tol_mode)\n",
    "\n",
    "    fig, ax = plt.subplots(figsize=(12, 6))\n",
    "    sup.spectrum(spectrum, ax=ax)\n",
    "    plt.show()\n",
    "    plt.close()"
   ]
  },
  {
   "cell_type": "code",
   "execution_count": 5,
   "metadata": {},
   "outputs": [
    {
     "name": "stdout",
     "output_type": "stream",
     "text": [
      "num peaks: \n",
      "15\n",
      "15\n"
     ]
    },
    {
     "data": {
      "image/png": "[encoded data removed]",
      "text/plain": [
       "<Figure size 864x432 with 1 Axes>"
      ]
     },
     "metadata": {
      "needs_background": "light"
     },
     "output_type": "display_data"
    }
   ],
   "source": [
    "data = unique_data.iloc[32]\n",
    "print(\"num peaks: \")\n",
    "print(len(data['m/z']))\n",
    "print(len(data['intensity']))\n",
    "show_spectrum(data)"
   ]
  },
  {
   "cell_type": "code",
   "execution_count": 6,
   "metadata": {},
   "outputs": [
    {
     "data": {
      "text/plain": [
       "(0, 600.0)"
      ]
     },
     "execution_count": 6,
     "metadata": {},
     "output_type": "execute_result"
    },
    {
     "data": {
      "image/png": "[encoded data removed]",
      "text/plain": [
       "<Figure size 864x432 with 1 Axes>"
      ]
     },
     "metadata": {
      "needs_background": "light"
     },
     "output_type": "display_data"
    }
   ],
   "source": [
    "## verify binning results in a similar plot\n",
    "bin_size = 1\n",
    "binned = bin_spectra(data, bin_size)\n",
    "\n",
    "fig = plt.figure(figsize=(12, 6))\n",
    "ax = fig.add_subplot()\n",
    "ax.bar(range(len(binned)), binned, width=2)\n",
    "ax.set_xlim(0, 600/bin_size)\n"
   ]
  },
  {
   "cell_type": "code",
   "execution_count": 7,
   "metadata": {},
   "outputs": [],
   "source": [
    "def count_peaks(data, threshold):\n",
    "    peak_counter = {i:0 for i in range(601)}\n",
    "    for i, mol in data.iterrows():\n",
    "        binned = bin_spectra(mol, 1)\n",
    "        for bin_no, intensity in enumerate(binned):\n",
    "            if intensity > threshold:\n",
    "                peak_counter[bin_no] += 1\n",
    "    \n",
    "    return peak_counter"
   ]
  },
  {
   "cell_type": "code",
   "execution_count": 8,
   "metadata": {},
   "outputs": [],
   "source": [
    "## find most common large peak\n",
    "# peaks = count_peaks(unique_data, 0.9)\n",
    "# max_peak = max(peaks.items(), key=operator.itemgetter(1))[0]\n",
    "max_peak = 121"
   ]
  },
  {
   "cell_type": "code",
   "execution_count": 9,
   "metadata": {},
   "outputs": [
    {
     "name": "stdout",
     "output_type": "stream",
     "text": [
      "Binning: 1068   \r"
     ]
    },
    {
     "name": "stderr",
     "output_type": "stream",
     "text": [
      "/home/cameron/cs/project/src/data_utils.py:68: RuntimeWarning: invalid value encountered in true_divide\n",
      "  return array / max(array)\n"
     ]
    },
    {
     "name": "stdout",
     "output_type": "stream",
     "text": [
      "Binning: 8239   \r"
     ]
    },
    {
     "data": {
      "text/plain": [
       "8239"
      ]
     },
     "execution_count": 9,
     "metadata": {},
     "output_type": "execute_result"
    }
   ],
   "source": [
    "##### predict only bin 121\n",
    "x_data = []\n",
    "y_data = []\n",
    "\n",
    "for i, mol in unique_data.iterrows():\n",
    "    sys.stdout.write(\"Binning: %d   \\r\" % (i + 1) )\n",
    "    sys.stdout.flush()\n",
    "    binned = bin_spectra(mol, 1)\n",
    "    x_data.append(mol['fingerprint'])\n",
    "    y_data.append(binned[max_peak])\n",
    "    \n",
    "    \n",
    "split = int(0.8 * len(x_data))\n",
    "    \n",
    "x_train = np.array(x_data[:split])\n",
    "y_train = np.array(y_data[:split])\n",
    "\n",
    "x_test = np.array(x_data[split:])\n",
    "y_test = np.array(y_data[split:])\n",
    "\n",
    "len(x_data)"
   ]
  },
  {
   "cell_type": "code",
   "execution_count": 10,
   "metadata": {},
   "outputs": [
    {
     "data": {
      "text/plain": [
       "844"
      ]
     },
     "execution_count": 10,
     "metadata": {},
     "output_type": "execute_result"
    }
   ],
   "source": [
    "x2_data = []\n",
    "y2_data = []\n",
    "\n",
    "for i, val in enumerate(y_data):\n",
    "    if val > 0.1:\n",
    "        x2_data.append(x_data[i])\n",
    "        y2_data.append(val)\n",
    "        \n",
    "split2 = int(0.8 * len(x2_data))\n",
    "        \n",
    "x2_train = np.array(x2_data[:split2])\n",
    "y2_train = np.array(y2_data[:split2])\n",
    "\n",
    "x2_test = np.array(x2_data[split2:])\n",
    "y2_test = np.array(y2_data[split2:])\n",
    "\n",
    "len(x2_data)"
   ]
  },
  {
   "cell_type": "code",
   "execution_count": 11,
   "metadata": {},
   "outputs": [],
   "source": [
    "### First working MLP\n",
    "# model = Sequential()\n",
    "# model.add(Dense(units=1024, activation='sigmoid', input_shape=(2048,)))\n",
    "# model.add(Dense(units=64, activation='relu'))\n",
    "# model.add(Dense(1, activation='linear'))\n",
    "# sgd = optimizers.SGD(lr=0.01, nesterov=True);\n",
    "# model.compile(loss='mean_absolute_error', optimizer=sgd)"
   ]
  },
  {
   "cell_type": "code",
   "execution_count": 12,
   "metadata": {},
   "outputs": [
    {
     "name": "stdout",
     "output_type": "stream",
     "text": [
      "Executing op RandomUniform in device /job:localhost/replica:0/task:0/device:GPU:0\n",
      "Executing op Sub in device /job:localhost/replica:0/task:0/device:GPU:0\n",
      "Executing op Mul in device /job:localhost/replica:0/task:0/device:GPU:0\n",
      "Executing op Add in device /job:localhost/replica:0/task:0/device:GPU:0\n",
      "Executing op VarHandleOp in device /job:localhost/replica:0/task:0/device:GPU:0\n",
      "Executing op VarIsInitializedOp in device /job:localhost/replica:0/task:0/device:GPU:0\n",
      "Executing op LogicalNot in device /job:localhost/replica:0/task:0/device:GPU:0\n",
      "Executing op Assert in device /job:localhost/replica:0/task:0/device:GPU:0\n",
      "Executing op AssignVariableOp in device /job:localhost/replica:0/task:0/device:GPU:0\n",
      "Executing op Fill in device /job:localhost/replica:0/task:0/device:GPU:0\n",
      "Executing op VarHandleOp in device /job:localhost/replica:0/task:0/device:GPU:0\n",
      "Executing op RandomUniform in device /job:localhost/replica:0/task:0/device:GPU:0\n",
      "Executing op VarHandleOp in device /job:localhost/replica:0/task:0/device:GPU:0\n",
      "Executing op VarHandleOp in device /job:localhost/replica:0/task:0/device:GPU:0\n",
      "Executing op RandomUniform in device /job:localhost/replica:0/task:0/device:GPU:0\n",
      "Executing op VarHandleOp in device /job:localhost/replica:0/task:0/device:GPU:0\n",
      "Executing op VarHandleOp in device /job:localhost/replica:0/task:0/device:GPU:0\n",
      "Executing op RandomUniform in device /job:localhost/replica:0/task:0/device:GPU:0\n",
      "Executing op VarHandleOp in device /job:localhost/replica:0/task:0/device:GPU:0\n",
      "Executing op VarHandleOp in device /job:localhost/replica:0/task:0/device:GPU:0\n",
      "Executing op RandomUniform in device /job:localhost/replica:0/task:0/device:GPU:0\n",
      "Executing op VarHandleOp in device /job:localhost/replica:0/task:0/device:GPU:0\n",
      "Executing op Reshape in device /job:localhost/replica:0/task:0/device:GPU:0\n",
      "Executing op VarHandleOp in device /job:localhost/replica:0/task:0/device:GPU:0\n",
      "Executing op VarHandleOp in device /job:localhost/replica:0/task:0/device:GPU:0\n",
      "Executing op AssignVariableOp in device /job:localhost/replica:0/task:0/device:GPU:0\n",
      "Executing op VarHandleOp in device /job:localhost/replica:0/task:0/device:GPU:0\n"
     ]
    }
   ],
   "source": [
    "model = Sequential()\n",
    "model.add(Dense(units=1024, activation='sigmoid', input_shape=(2048,)))\n",
    "\n",
    "model.add(Dense(units=512, activation='relu'))\n",
    "#model.add(Dropout(0.25))\n",
    "model.add(Dense(units=256, activation='relu'))\n",
    "model.add(Dense(units=64, activation='relu'))\n",
    "#model.add(Dropout(0.25))\n",
    "model.add(Dense(1))\n",
    "\n",
    "#model.compile(optimizer='adam', loss='mse', metrics=['mean_absolute_error'])\n",
    "#model.compile(loss='mean_absolute_error', optimizer='adam', metrics=['mean_squared_error'])\n",
    "#model.fit(np.array(x_data), np.array(y_data), epochs=10, batch_size=10, verbose=1, validation_split=0.2)\n",
    "\n",
    "\n",
    "sgd = optimizers.SGD(lr=0.01, nesterov=True);\n",
    "rmsprop = optimizers.RMSprop(learning_rate=0.01, rho=0.9)\n",
    "model.compile(loss='mean_squared_error', optimizer='rmsprop', metrics=['mse', 'mae', 'mape', 'cosine'])"
   ]
  },
  {
   "cell_type": "code",
   "execution_count": 13,
   "metadata": {},
   "outputs": [
    {
     "name": "stdout",
     "output_type": "stream",
     "text": [
      "Train on 540 samples, validate on 135 samples\n",
      "Epoch 1/50\n",
      "Executing op __inference_keras_scratch_graph_1140 in device /job:localhost/replica:0/task:0/device:GPU:0\n",
      "320/540 [================>.............] - ETA: 0s - loss: 17.3758 - mse: 17.3758 - mae: 2.7372 - mape: 1200.3359 - cosine: 0.2000Executing op __inference_keras_scratch_graph_1271 in device /job:localhost/replica:0/task:0/device:GPU:0\n",
      "540/540 [==============================] - 1s 2ms/step - loss: 10.3475 - mse: 10.3475 - mae: 1.7374 - mape: 758.3250 - cosine: 0.5259 - val_loss: 0.2409 - val_mse: 0.2409 - val_mae: 0.4710 - val_mape: 267.3289 - val_cosine: 1.0000\n",
      "Epoch 2/50\n",
      "540/540 [==============================] - 0s 251us/step - loss: 0.1146 - mse: 0.1146 - mae: 0.2746 - mape: 117.1073 - cosine: 1.0000 - val_loss: 0.0651 - val_mse: 0.0651 - val_mae: 0.1791 - val_mape: 72.1836 - val_cosine: 1.0000\n",
      "Epoch 3/50\n",
      "540/540 [==============================] - 0s 245us/step - loss: 0.2965 - mse: 0.2965 - mae: 0.4209 - mape: 182.3595 - cosine: 0.6593 - val_loss: 0.1798 - val_mse: 0.1798 - val_mae: 0.4082 - val_mape: 228.9948 - val_cosine: 1.0000\n",
      "Epoch 4/50\n",
      "540/540 [==============================] - 0s 257us/step - loss: 0.1388 - mse: 0.1388 - mae: 0.3032 - mape: 126.7587 - cosine: 0.9148 - val_loss: 0.3967 - val_mse: 0.3967 - val_mae: 0.5947 - val_mape: 342.7144 - val_cosine: 1.0000\n",
      "Epoch 5/50\n",
      "540/540 [==============================] - 0s 246us/step - loss: 0.2026 - mse: 0.2026 - mae: 0.3695 - mape: 165.6676 - cosine: 0.7222 - val_loss: 0.1382 - val_mse: 0.1382 - val_mae: 0.3562 - val_mape: 198.6762 - val_cosine: 1.0000\n",
      "Epoch 6/50\n",
      "540/540 [==============================] - 0s 290us/step - loss: 0.1497 - mse: 0.1497 - mae: 0.3170 - mape: 133.6953 - cosine: 0.8259 - val_loss: 0.0574 - val_mse: 0.0574 - val_mae: 0.1614 - val_mape: 61.9314 - val_cosine: 1.0000\n",
      "Epoch 7/50\n",
      "540/540 [==============================] - 0s 275us/step - loss: 0.1615 - mse: 0.1615 - mae: 0.3233 - mape: 140.5038 - cosine: 0.6111 - val_loss: 0.0857 - val_mse: 0.0857 - val_mae: 0.2728 - val_mape: 143.3352 - val_cosine: 1.0000\n",
      "Epoch 8/50\n",
      "540/540 [==============================] - 0s 258us/step - loss: 0.1326 - mse: 0.1326 - mae: 0.2956 - mape: 125.3278 - cosine: 0.8222 - val_loss: 0.3451 - val_mse: 0.3451 - val_mae: 0.5545 - val_mape: 319.4131 - val_cosine: 1.0000\n",
      "Epoch 9/50\n",
      "540/540 [==============================] - 0s 249us/step - loss: 0.1291 - mse: 0.1291 - mae: 0.2929 - mape: 122.6755 - cosine: 0.8333 - val_loss: 0.1046 - val_mse: 0.1046 - val_mae: 0.2167 - val_mape: 61.1309 - val_cosine: 1.0000\n",
      "Epoch 10/50\n",
      "540/540 [==============================] - 0s 244us/step - loss: 0.0944 - mse: 0.0944 - mae: 0.2394 - mape: 90.1290 - cosine: 1.0000 - val_loss: 0.1184 - val_mse: 0.1184 - val_mae: 0.3260 - val_mape: 182.0824 - val_cosine: 1.0000\n",
      "Epoch 11/50\n",
      "540/540 [==============================] - 0s 267us/step - loss: 0.0959 - mse: 0.0959 - mae: 0.2384 - mape: 94.5637 - cosine: 1.0000 - val_loss: 0.0699 - val_mse: 0.0699 - val_mae: 0.1526 - val_mape: 37.8139 - val_cosine: 1.0000\n",
      "Epoch 12/50\n",
      "540/540 [==============================] - 0s 285us/step - loss: 0.1183 - mse: 0.1183 - mae: 0.2625 - mape: 103.9886 - cosine: 1.0000 - val_loss: 0.0942 - val_mse: 0.0942 - val_mae: 0.2909 - val_mape: 156.5021 - val_cosine: 1.0000\n",
      "Epoch 13/50\n",
      "540/540 [==============================] - 0s 261us/step - loss: 0.0858 - mse: 0.0858 - mae: 0.2378 - mape: 101.5097 - cosine: 0.9519 - val_loss: 0.0533 - val_mse: 0.0533 - val_mae: 0.1478 - val_mape: 52.1305 - val_cosine: 1.0000\n",
      "Epoch 14/50\n",
      "540/540 [==============================] - 0s 249us/step - loss: 0.0798 - mse: 0.0798 - mae: 0.2149 - mape: 84.1983 - cosine: 1.0000 - val_loss: 0.0497 - val_mse: 0.0497 - val_mae: 0.1525 - val_mape: 60.9676 - val_cosine: 1.0000\n",
      "Epoch 15/50\n",
      "540/540 [==============================] - 0s 242us/step - loss: 0.0836 - mse: 0.0836 - mae: 0.2163 - mape: 85.9397 - cosine: 1.0000 - val_loss: 0.0748 - val_mse: 0.0748 - val_mae: 0.2493 - val_mape: 131.4887 - val_cosine: 1.0000\n",
      "Epoch 16/50\n",
      "540/540 [==============================] - 0s 241us/step - loss: 0.0632 - mse: 0.0632 - mae: 0.1886 - mape: 71.3349 - cosine: 1.0000 - val_loss: 0.0545 - val_mse: 0.0545 - val_mae: 0.1436 - val_mape: 44.2060 - val_cosine: 1.0000\n",
      "Epoch 17/50\n",
      "540/540 [==============================] - 0s 261us/step - loss: 0.0392 - mse: 0.0392 - mae: 0.1463 - mape: 56.0171 - cosine: 1.0000 - val_loss: 0.0509 - val_mse: 0.0509 - val_mae: 0.1412 - val_mape: 48.1027 - val_cosine: 1.0000\n",
      "Epoch 18/50\n",
      "540/540 [==============================] - 0s 255us/step - loss: 0.0609 - mse: 0.0609 - mae: 0.1770 - mape: 62.3514 - cosine: 1.0000 - val_loss: 0.0560 - val_mse: 0.0560 - val_mae: 0.1705 - val_mape: 78.3993 - val_cosine: 1.0000\n",
      "Epoch 19/50\n",
      "540/540 [==============================] - 0s 295us/step - loss: 0.0754 - mse: 0.0754 - mae: 0.1931 - mape: 69.9568 - cosine: 1.0000 - val_loss: 0.1016 - val_mse: 0.1016 - val_mae: 0.2735 - val_mape: 150.7461 - val_cosine: 1.0000\n",
      "Epoch 20/50\n",
      "540/540 [==============================] - 0s 260us/step - loss: 0.0422 - mse: 0.0422 - mae: 0.1470 - mape: 57.0420 - cosine: 1.0000 - val_loss: 0.0516 - val_mse: 0.0516 - val_mae: 0.1443 - val_mape: 51.1566 - val_cosine: 1.0000\n",
      "Epoch 21/50\n",
      "540/540 [==============================] - 0s 250us/step - loss: 0.0401 - mse: 0.0401 - mae: 0.1403 - mape: 49.7393 - cosine: 1.0000 - val_loss: 0.0810 - val_mse: 0.0810 - val_mae: 0.2229 - val_mape: 118.9920 - val_cosine: 1.0000\n",
      "Epoch 22/50\n",
      "540/540 [==============================] - 0s 251us/step - loss: 0.0360 - mse: 0.0360 - mae: 0.1355 - mape: 50.1304 - cosine: 1.0000 - val_loss: 0.0733 - val_mse: 0.0733 - val_mae: 0.1653 - val_mape: 42.0996 - val_cosine: 1.0000\n",
      "Epoch 23/50\n",
      "540/540 [==============================] - 0s 245us/step - loss: 0.0447 - mse: 0.0447 - mae: 0.1459 - mape: 48.2659 - cosine: 1.0000 - val_loss: 0.0695 - val_mse: 0.0695 - val_mae: 0.1998 - val_mape: 105.1980 - val_cosine: 1.0000\n",
      "Epoch 24/50\n",
      "540/540 [==============================] - 0s 248us/step - loss: 0.0424 - mse: 0.0424 - mae: 0.1447 - mape: 50.4656 - cosine: 1.0000 - val_loss: 0.0524 - val_mse: 0.0524 - val_mae: 0.1412 - val_mape: 47.5507 - val_cosine: 1.0000\n",
      "Epoch 25/50\n",
      "540/540 [==============================] - 0s 243us/step - loss: 0.0245 - mse: 0.0245 - mae: 0.1118 - mape: 40.8290 - cosine: 1.0000 - val_loss: 0.0621 - val_mse: 0.0621 - val_mae: 0.1934 - val_mape: 96.1266 - val_cosine: 1.0000\n",
      "Epoch 26/50\n",
      "540/540 [==============================] - 0s 268us/step - loss: 0.0238 - mse: 0.0238 - mae: 0.1055 - mape: 39.3478 - cosine: 1.0000 - val_loss: 0.0729 - val_mse: 0.0729 - val_mae: 0.1928 - val_mape: 96.3061 - val_cosine: 1.0000\n",
      "Epoch 27/50\n",
      "540/540 [==============================] - 0s 279us/step - loss: 0.0352 - mse: 0.0352 - mae: 0.1311 - mape: 43.8100 - cosine: 1.0000 - val_loss: 0.0550 - val_mse: 0.0550 - val_mae: 0.1456 - val_mape: 51.1389 - val_cosine: 1.0000\n",
      "Epoch 28/50\n",
      "540/540 [==============================] - 0s 242us/step - loss: 0.0238 - mse: 0.0238 - mae: 0.1021 - mape: 37.5746 - cosine: 1.0000 - val_loss: 0.0548 - val_mse: 0.0548 - val_mae: 0.1479 - val_mape: 53.9425 - val_cosine: 1.0000\n",
      "Epoch 29/50\n",
      "540/540 [==============================] - 0s 253us/step - loss: 0.0266 - mse: 0.0266 - mae: 0.1110 - mape: 37.8730 - cosine: 1.0000 - val_loss: 0.0587 - val_mse: 0.0587 - val_mae: 0.1629 - val_mape: 69.0843 - val_cosine: 1.0000\n",
      "Epoch 30/50\n",
      "540/540 [==============================] - 0s 255us/step - loss: 0.0218 - mse: 0.0218 - mae: 0.1001 - mape: 35.8283 - cosine: 1.0000 - val_loss: 0.0564 - val_mse: 0.0564 - val_mae: 0.1690 - val_mape: 71.8065 - val_cosine: 1.0000\n",
      "Epoch 31/50\n",
      "540/540 [==============================] - 0s 282us/step - loss: 0.0314 - mse: 0.0314 - mae: 0.1290 - mape: 48.0735 - cosine: 1.0000 - val_loss: 0.0587 - val_mse: 0.0587 - val_mae: 0.1551 - val_mape: 55.4243 - val_cosine: 1.0000\n",
      "Epoch 32/50\n",
      "540/540 [==============================] - 0s 249us/step - loss: 0.0140 - mse: 0.0140 - mae: 0.0782 - mape: 27.7693 - cosine: 1.0000 - val_loss: 0.0647 - val_mse: 0.0647 - val_mae: 0.1710 - val_mape: 75.7372 - val_cosine: 1.0000\n",
      "Epoch 33/50\n"
     ]
    },
    {
     "name": "stdout",
     "output_type": "stream",
     "text": [
      "540/540 [==============================] - 0s 246us/step - loss: 0.0241 - mse: 0.0241 - mae: 0.1064 - mape: 33.9061 - cosine: 1.0000 - val_loss: 0.0609 - val_mse: 0.0609 - val_mae: 0.1631 - val_mape: 70.8642 - val_cosine: 1.0000\n",
      "Epoch 34/50\n",
      "540/540 [==============================] - 0s 240us/step - loss: 0.0196 - mse: 0.0196 - mae: 0.0930 - mape: 30.2084 - cosine: 1.0000 - val_loss: 0.0643 - val_mse: 0.0643 - val_mae: 0.1614 - val_mape: 48.9269 - val_cosine: 1.0000\n",
      "Epoch 35/50\n",
      "540/540 [==============================] - 0s 258us/step - loss: 0.0221 - mse: 0.0221 - mae: 0.1062 - mape: 35.1538 - cosine: 1.0000 - val_loss: 0.0713 - val_mse: 0.0713 - val_mae: 0.1828 - val_mape: 86.8389 - val_cosine: 1.0000\n",
      "Epoch 36/50\n",
      "540/540 [==============================] - 0s 246us/step - loss: 0.0213 - mse: 0.0213 - mae: 0.0970 - mape: 30.8577 - cosine: 1.0000 - val_loss: 0.0607 - val_mse: 0.0607 - val_mae: 0.1622 - val_mape: 62.3377 - val_cosine: 1.0000\n",
      "Epoch 37/50\n",
      "540/540 [==============================] - 0s 242us/step - loss: 0.0177 - mse: 0.0177 - mae: 0.0878 - mape: 29.4316 - cosine: 1.0000 - val_loss: 0.0808 - val_mse: 0.0808 - val_mae: 0.2145 - val_mape: 106.2420 - val_cosine: 1.0000\n",
      "Epoch 38/50\n",
      "540/540 [==============================] - 0s 243us/step - loss: 0.0211 - mse: 0.0211 - mae: 0.1080 - mape: 38.2523 - cosine: 1.0000 - val_loss: 0.0566 - val_mse: 0.0566 - val_mae: 0.1502 - val_mape: 53.9552 - val_cosine: 1.0000\n",
      "Epoch 39/50\n",
      "540/540 [==============================] - 0s 241us/step - loss: 0.0190 - mse: 0.0190 - mae: 0.0933 - mape: 31.7525 - cosine: 1.0000 - val_loss: 0.0668 - val_mse: 0.0668 - val_mae: 0.1779 - val_mape: 82.2863 - val_cosine: 1.0000\n",
      "Epoch 40/50\n",
      "540/540 [==============================] - 0s 243us/step - loss: 0.0171 - mse: 0.0171 - mae: 0.0898 - mape: 30.7100 - cosine: 1.0000 - val_loss: 0.0631 - val_mse: 0.0631 - val_mae: 0.1551 - val_mape: 49.7608 - val_cosine: 1.0000\n",
      "Epoch 41/50\n",
      "540/540 [==============================] - 0s 245us/step - loss: 0.0183 - mse: 0.0183 - mae: 0.0834 - mape: 24.4769 - cosine: 1.0000 - val_loss: 0.0706 - val_mse: 0.0706 - val_mae: 0.1883 - val_mape: 89.3262 - val_cosine: 1.0000\n",
      "Epoch 42/50\n",
      "540/540 [==============================] - 0s 246us/step - loss: 0.0117 - mse: 0.0117 - mae: 0.0717 - mape: 24.8420 - cosine: 1.0000 - val_loss: 0.0734 - val_mse: 0.0734 - val_mae: 0.1856 - val_mape: 84.1991 - val_cosine: 1.0000\n",
      "Epoch 43/50\n",
      "540/540 [==============================] - 0s 244us/step - loss: 0.0151 - mse: 0.0151 - mae: 0.0830 - mape: 25.9600 - cosine: 1.0000 - val_loss: 0.0614 - val_mse: 0.0614 - val_mae: 0.1596 - val_mape: 57.8029 - val_cosine: 1.0000\n",
      "Epoch 44/50\n",
      "540/540 [==============================] - 0s 242us/step - loss: 0.0109 - mse: 0.0109 - mae: 0.0678 - mape: 22.7034 - cosine: 1.0000 - val_loss: 0.0653 - val_mse: 0.0653 - val_mae: 0.1549 - val_mape: 46.8701 - val_cosine: 1.0000\n",
      "Epoch 45/50\n",
      "540/540 [==============================] - 0s 242us/step - loss: 0.0123 - mse: 0.0123 - mae: 0.0750 - mape: 24.7918 - cosine: 1.0000 - val_loss: 0.0667 - val_mse: 0.0667 - val_mae: 0.1677 - val_mape: 73.7721 - val_cosine: 1.0000\n",
      "Epoch 46/50\n",
      "540/540 [==============================] - 0s 251us/step - loss: 0.0197 - mse: 0.0197 - mae: 0.0982 - mape: 31.0765 - cosine: 1.0000 - val_loss: 0.0566 - val_mse: 0.0566 - val_mae: 0.1490 - val_mape: 50.9159 - val_cosine: 1.0000\n",
      "Epoch 47/50\n",
      "540/540 [==============================] - 0s 251us/step - loss: 0.0081 - mse: 0.0081 - mae: 0.0559 - mape: 18.8104 - cosine: 1.0000 - val_loss: 0.0990 - val_mse: 0.0990 - val_mae: 0.2320 - val_mape: 115.7497 - val_cosine: 1.0000\n",
      "Epoch 48/50\n",
      "540/540 [==============================] - 0s 242us/step - loss: 0.0139 - mse: 0.0139 - mae: 0.0698 - mape: 20.9943 - cosine: 1.0000 - val_loss: 0.0832 - val_mse: 0.0832 - val_mae: 0.2116 - val_mape: 104.4007 - val_cosine: 1.0000\n",
      "Epoch 49/50\n",
      "540/540 [==============================] - 0s 240us/step - loss: 0.0090 - mse: 0.0090 - mae: 0.0658 - mape: 21.9255 - cosine: 1.0000 - val_loss: 0.0625 - val_mse: 0.0625 - val_mae: 0.1694 - val_mape: 73.5116 - val_cosine: 1.0000\n",
      "Epoch 50/50\n",
      "540/540 [==============================] - 0s 239us/step - loss: 0.0133 - mse: 0.0133 - mae: 0.0756 - mape: 24.0590 - cosine: 1.0000 - val_loss: 0.0710 - val_mse: 0.0710 - val_mae: 0.1861 - val_mape: 88.3659 - val_cosine: 1.0000\n"
     ]
    }
   ],
   "source": [
    "history = model.fit(x2_train, y2_train, epochs=50, batch_size=64, validation_split=0.2, verbose=1)"
   ]
  },
  {
   "cell_type": "code",
   "execution_count": 14,
   "metadata": {},
   "outputs": [
    {
     "name": "stdout",
     "output_type": "stream",
     "text": [
      "169/169 [==============================] - 0s 69us/step\n",
      "loss 0.08382102520860864\n",
      "mse 0.08382102847099304\n",
      "mae 0.21736817061901093\n",
      "mape 81.84187316894531\n",
      "cosine 1.0\n"
     ]
    }
   ],
   "source": [
    "results = model.evaluate(x2_test, y2_test, batch_size=128, verbose=1)\n",
    "labels = model.metrics_names\n",
    "\n",
    "for i in range(len(results)):\n",
    "    print(labels[i], results[i])"
   ]
  },
  {
   "cell_type": "code",
   "execution_count": 15,
   "metadata": {},
   "outputs": [
    {
     "data": {
      "image/png": "[encoded data removed]",
      "text/plain": [
       "<Figure size 432x288 with 1 Axes>"
      ]
     },
     "metadata": {
      "needs_background": "light"
     },
     "output_type": "display_data"
    },
    {
     "data": {
      "image/png": "[encoded data removed]",
      "text/plain": [
       "<Figure size 432x288 with 1 Axes>"
      ]
     },
     "metadata": {
      "needs_background": "light"
     },
     "output_type": "display_data"
    }
   ],
   "source": [
    "# Plot training & validation accuracy values\n",
    "plt.plot(history.history['mse'])\n",
    "plt.plot(history.history['val_mse'])\n",
    "plt.title('Model MSE')\n",
    "plt.ylabel('Mean squared error')\n",
    "plt.xlabel('Epoch')\n",
    "plt.legend(['Train', 'Test'], loc='upper left')\n",
    "plt.show()\n",
    "\n",
    "# Plot training & validation loss values\n",
    "plt.plot(history.history['loss'])\n",
    "plt.plot(history.history['val_loss'])\n",
    "plt.title('Model loss')\n",
    "plt.ylabel('Loss')\n",
    "plt.xlabel('Epoch')\n",
    "plt.legend(['Train', 'Test'], loc='upper left')\n",
    "plt.show()"
   ]
  }
 ],
 "metadata": {
  "kernelspec": {
   "display_name": "Python (dissertation)",
   "language": "python",
   "name": "dissertation"
  },
  "language_info": {
   "codemirror_mode": {
    "name": "ipython",
    "version": 3
   },
   "file_extension": ".py",
   "mimetype": "text/x-python",
   "name": "python",
   "nbconvert_exporter": "python",
   "pygments_lexer": "ipython3",
   "version": "3.7.5"
  }
 },
 "nbformat": 4,
 "nbformat_minor": 2
}
